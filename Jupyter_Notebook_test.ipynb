{
 "cells": [
  {
   "cell_type": "markdown",
   "metadata": {},
   "source": [
    "<center>\n",
    "    <img src=\"https://cf-courses-data.s3.us.cloud-object-storage.appdomain.cloud/IBMDeveloperSkillsNetwork-DS0105EN-SkillsNetwork/labs/Module2/images/SN_web_lightmode.png\" width=\"300\" alt=\"cognitiveclass.ai logo\">\n",
    "</center>\n"
   ]
  },
  {
   "cell_type": "markdown",
   "metadata": {},
   "source": [
    "#### Add your code below following the instructions given in the course\n"
   ]
  },
  {
   "cell_type": "code",
   "execution_count": 1,
   "metadata": {
    "tags": []
   },
   "outputs": [],
   "source": [
    "# Data Science Notebook\n"
   ]
  },
  {
   "cell_type": "code",
   "execution_count": 3,
   "metadata": {
    "tags": []
   },
   "outputs": [],
   "source": [
    "## Introdução "
   ]
  },
  {
   "cell_type": "code",
   "execution_count": 4,
   "metadata": {
    "tags": []
   },
   "outputs": [],
   "source": [
    "#Este notebook foi criado para demonstrar habilidades básicas em ciência de dados usando a linguagem de programação R e ferramentas relacionadas. Vamos explorar várias linguagens, bibliotecas e ferramentas comuns em ciência de dados, além de realizar algumas operações aritméticas básicas."
   ]
  },
  {
   "cell_type": "code",
   "execution_count": 6,
   "metadata": {
    "tags": []
   },
   "outputs": [],
   "source": [
    "## Linguagens de Ciência de Dados\n",
    "#1. Python\n",
    "#2. R\n",
    "#3. Julia\n",
    "#4. SQL\n",
    "#5. Scala"
   ]
  },
  {
   "cell_type": "code",
   "execution_count": 7,
   "metadata": {
    "tags": []
   },
   "outputs": [],
   "source": [
    "## Bibliotecas de Ciência de Dados\n",
    "##1. Pandas (Python)\n",
    "#2. NumPy (Python)\n",
    "#3. SciPy (Python)\n",
    "#4. ggplot2 (R)\n",
    "#5. caret (R)\n",
    "#6. TensorFlow (Python)\n",
    "#7. Keras (Python)\n",
    "#8. dplyr (R)"
   ]
  },
  {
   "cell_type": "code",
   "execution_count": 9,
   "metadata": {
    "tags": []
   },
   "outputs": [],
   "source": [
    "## Ferramentas de Ciência de Dados\n",
    "\n",
    "#| Ferramenta          | Descrição                                 |\n",
    "#|---------------------|-------------------------------------------|\n",
    "#| Jupyter Notebook    | Ambiente interativo de notebooks          |\n",
    "#| RStudio             | IDE para R                                |\n",
    "#| Apache Spark        | Processamento de dados em larga escala    |\n",
    "#| TensorFlow          | Biblioteca de aprendizado de máquina      |\n",
    "#| Power BI            | Ferramenta de visualização de dados       |\n",
    "#| Tableau             | Ferramenta de visualização de dados       |\n",
    "#| GitHub              | Plataforma de controle de versão          |"
   ]
  },
  {
   "cell_type": "code",
   "execution_count": 10,
   "metadata": {
    "tags": []
   },
   "outputs": [],
   "source": [
    "## Exemplos de Expressões Aritméticas 1. Adição: \\( 3 + 2 = 5 \\) 2. Subtração: \\( 7 - 4 = 3 \\) 3. Multiplicação: \\( 6 \\times 3 = 18 \\) 4. Divisão: \\( 10 \\div 2 = 5 \\)"
   ]
  },
  {
   "cell_type": "code",
   "execution_count": 11,
   "metadata": {
    "tags": []
   },
   "outputs": [
    {
     "name": "stdout",
     "output_type": "stream",
     "text": [
      "Multiplicação: 50\n",
      "Adição: 15\n"
     ]
    }
   ],
   "source": [
    "# Multiplicação e adição de números\n",
    "a = 5\n",
    "b = 10\n",
    "multiplicacao = a * b\n",
    "adicao = a + b\n",
    "\n",
    "print(f\"Multiplicação: {multiplicacao}\")\n",
    "print(f\"Adição: {adicao}\")"
   ]
  },
  {
   "cell_type": "code",
   "execution_count": 12,
   "metadata": {
    "tags": []
   },
   "outputs": [
    {
     "name": "stdout",
     "output_type": "stream",
     "text": [
      "150 minutos é igual a 2.5 horas\n"
     ]
    }
   ],
   "source": [
    "# Converter minutos em horas\n",
    "minutos = 150\n",
    "horas = minutos / 60\n",
    "\n",
    "print(f\"{minutos} minutos é igual a {horas} horas\")"
   ]
  },
  {
   "cell_type": "code",
   "execution_count": 13,
   "metadata": {
    "tags": []
   },
   "outputs": [],
   "source": [
    "## Objetivos\n",
    "#1. Entender as linguagens de programação mais utilizadas em ciência de dados.\n",
    "#2. Conhecer as bibliotecas populares para análise e visualização de dados.\n",
    "#3. Aprender sobre as ferramentas de ciência de dados e suas funcionalidades.\n",
    "#4. Realizar operações aritméticas básicas em um notebook."
   ]
  },
  {
   "cell_type": "code",
   "execution_count": 15,
   "metadata": {
    "tags": []
   },
   "outputs": [],
   "source": [
    "## Autor\n",
    "#Este notebook foi criado por Jair Medina."
   ]
  },
  {
   "cell_type": "code",
   "execution_count": null,
   "metadata": {},
   "outputs": [],
   "source": []
  }
 ],
 "metadata": {
  "kernelspec": {
   "display_name": "Python",
   "language": "python",
   "name": "conda-env-python-py"
  },
  "language_info": {
   "codemirror_mode": {
    "name": "ipython",
    "version": 3
   },
   "file_extension": ".py",
   "mimetype": "text/x-python",
   "name": "python",
   "nbconvert_exporter": "python",
   "pygments_lexer": "ipython3",
   "version": "3.7.12"
  }
 },
 "nbformat": 4,
 "nbformat_minor": 4
}
